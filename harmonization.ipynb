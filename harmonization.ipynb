{
 "cells": [
  {
   "cell_type": "code",
   "execution_count": 8,
   "metadata": {},
   "outputs": [],
   "source": [
    "import pandas as pd"
   ]
  },
  {
   "cell_type": "code",
   "execution_count": 9,
   "metadata": {},
   "outputs": [],
   "source": [
    "weather_data = pd.read_json('data/weather_output_met.json')\n",
    "weather_data_oslo = weather_data[weather_data['city'] == 'Oslo']\n",
    "weather_data_stockholm = weather_data[weather_data['city'] == 'Stockholm']"
   ]
  },
  {
   "cell_type": "code",
   "execution_count": 10,
   "metadata": {},
   "outputs": [],
   "source": [
    "weather_data_oslo = weather_data_oslo.iloc[0]\n",
    "weather_data_stockholm = weather_data_stockholm.iloc[0]"
   ]
  },
  {
   "cell_type": "code",
   "execution_count": 11,
   "metadata": {},
   "outputs": [],
   "source": [
    "weather_data_oslo_dict = weather_data_oslo['weather_data']\n",
    "weather_data_stockholm_dict = weather_data_stockholm['weather_data']"
   ]
  },
  {
   "cell_type": "code",
   "execution_count": 12,
   "metadata": {},
   "outputs": [],
   "source": [
    "timeseries_oslo = weather_data_oslo_dict['properties']['timeseries']\n",
    "timeseries_stockholm = weather_data_stockholm_dict['properties']['timeseries']"
   ]
  },
  {
   "cell_type": "code",
   "execution_count": 13,
   "metadata": {},
   "outputs": [],
   "source": [
    "oslo_df = pd.json_normalize(timeseries_oslo)\n",
    "stockholm_df = pd.json_normalize(timeseries_stockholm)\n"
   ]
  },
  {
   "cell_type": "code",
   "execution_count": 14,
   "metadata": {},
   "outputs": [],
   "source": [
    "oslo_df.to_csv('data/weather_data_oslo_met.csv', index=False)\n",
    "stockholm_df.to_csv('data/weather_data_stockholm_met.csv', index=False)\n"
   ]
  }
 ],
 "metadata": {
  "kernelspec": {
   "display_name": "airflow-venv",
   "language": "python",
   "name": "python3"
  },
  "language_info": {
   "codemirror_mode": {
    "name": "ipython",
    "version": 3
   },
   "file_extension": ".py",
   "mimetype": "text/x-python",
   "name": "python",
   "nbconvert_exporter": "python",
   "pygments_lexer": "ipython3",
   "version": "3.10.12"
  }
 },
 "nbformat": 4,
 "nbformat_minor": 2
}
