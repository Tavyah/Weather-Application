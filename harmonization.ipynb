{
 "cells": [
  {
   "cell_type": "code",
   "execution_count": 2,
   "metadata": {},
   "outputs": [],
   "source": [
    "import pandas as pd"
   ]
  },
  {
   "cell_type": "code",
   "execution_count": 3,
   "metadata": {},
   "outputs": [],
   "source": [
    "weather_data = pd.read_json('data/weather_output_met.json')\n",
    "weather_data_oslo = weather_data[weather_data['city'] == 'Oslo']\n",
    "weather_data_stockholm = weather_data[weather_data['city'] == 'Stockholm']"
   ]
  },
  {
   "cell_type": "code",
   "execution_count": 4,
   "metadata": {},
   "outputs": [],
   "source": [
    "weather_data_oslo = weather_data_oslo.iloc[0]\n",
    "weather_data_stockholm = weather_data_stockholm.iloc[0]"
   ]
  },
  {
   "cell_type": "code",
   "execution_count": 5,
   "metadata": {},
   "outputs": [],
   "source": [
    "weather_data_oslo_dict = weather_data_oslo['weather_data']\n",
    "weather_data_stockholm_dict = weather_data_stockholm['weather_data']"
   ]
  },
  {
   "cell_type": "code",
   "execution_count": 6,
   "metadata": {},
   "outputs": [],
   "source": [
    "timeseries_oslo = weather_data_oslo_dict['properties']['timeseries']\n",
    "timeseries_stockholm = weather_data_stockholm_dict['properties']['timeseries']"
   ]
  },
  {
   "cell_type": "code",
   "execution_count": 7,
   "metadata": {},
   "outputs": [],
   "source": [
    "oslo_df = pd.json_normalize(timeseries_oslo)\n",
    "stockholm_df = pd.json_normalize(timeseries_stockholm)\n"
   ]
  },
  {
   "cell_type": "code",
   "execution_count": null,
   "metadata": {},
   "outputs": [],
   "source": [
    "# oslo_df.to_csv('data/weather_data_oslo_met.csv', index=False)\n",
    "# stockholm_df.to_csv('data/weather_data_stockholm_met.csv', index=False)\n"
   ]
  },
  {
   "cell_type": "code",
   "execution_count": 8,
   "metadata": {},
   "outputs": [
    {
     "data": {
      "text/plain": [
       "time                                               0\n",
       "data.instant.details.air_pressure_at_sea_level     0\n",
       "data.instant.details.air_temperature               0\n",
       "data.instant.details.cloud_area_fraction           0\n",
       "data.instant.details.relative_humidity             0\n",
       "data.instant.details.wind_from_direction           0\n",
       "data.instant.details.wind_speed                    0\n",
       "data.next_12_hours.summary.symbol_code            12\n",
       "data.next_1_hours.summary.symbol_code             31\n",
       "data.next_1_hours.details.precipitation_amount    31\n",
       "data.next_6_hours.summary.symbol_code              6\n",
       "data.next_6_hours.details.precipitation_amount     6\n",
       "dtype: int64"
      ]
     },
     "execution_count": 8,
     "metadata": {},
     "output_type": "execute_result"
    }
   ],
   "source": [
    "oslo_df.isna().sum()\n",
    "stockholm_df.isna().sum()"
   ]
  },
  {
   "cell_type": "code",
   "execution_count": null,
   "metadata": {},
   "outputs": [],
   "source": [
    "oslo_df"
   ]
  },
  {
   "cell_type": "code",
   "execution_count": 9,
   "metadata": {},
   "outputs": [],
   "source": [
    "#get rid of all columns containing 'symbol_code' as it is not relevant for db\n",
    "oslo_df_mod = oslo_df[oslo_df.columns.drop(list(oslo_df.filter(regex='symbol_code')))]\n",
    "stockholm_df_mod = stockholm_df[stockholm_df.columns.drop(list(stockholm_df.filter(regex='symbol_code')))]"
   ]
  },
  {
   "cell_type": "code",
   "execution_count": 10,
   "metadata": {},
   "outputs": [
    {
     "data": {
      "text/html": [
       "<div>\n",
       "<style scoped>\n",
       "    .dataframe tbody tr th:only-of-type {\n",
       "        vertical-align: middle;\n",
       "    }\n",
       "\n",
       "    .dataframe tbody tr th {\n",
       "        vertical-align: top;\n",
       "    }\n",
       "\n",
       "    .dataframe thead th {\n",
       "        text-align: right;\n",
       "    }\n",
       "</style>\n",
       "<table border=\"1\" class=\"dataframe\">\n",
       "  <thead>\n",
       "    <tr style=\"text-align: right;\">\n",
       "      <th></th>\n",
       "      <th>time</th>\n",
       "      <th>data.instant.details.air_pressure_at_sea_level</th>\n",
       "      <th>data.instant.details.air_temperature</th>\n",
       "      <th>data.instant.details.cloud_area_fraction</th>\n",
       "      <th>data.instant.details.relative_humidity</th>\n",
       "      <th>data.instant.details.wind_from_direction</th>\n",
       "      <th>data.instant.details.wind_speed</th>\n",
       "      <th>data.next_1_hours.details.precipitation_amount</th>\n",
       "      <th>data.next_6_hours.details.precipitation_amount</th>\n",
       "    </tr>\n",
       "  </thead>\n",
       "  <tbody>\n",
       "    <tr>\n",
       "      <th>0</th>\n",
       "      <td>2024-08-19T12:00:00Z</td>\n",
       "      <td>1012.8</td>\n",
       "      <td>19.4</td>\n",
       "      <td>40.5</td>\n",
       "      <td>36.7</td>\n",
       "      <td>220.5</td>\n",
       "      <td>3.2</td>\n",
       "      <td>0.0</td>\n",
       "      <td>0.0</td>\n",
       "    </tr>\n",
       "    <tr>\n",
       "      <th>1</th>\n",
       "      <td>2024-08-19T13:00:00Z</td>\n",
       "      <td>1012.7</td>\n",
       "      <td>20.1</td>\n",
       "      <td>44.6</td>\n",
       "      <td>36.2</td>\n",
       "      <td>211.4</td>\n",
       "      <td>3.9</td>\n",
       "      <td>0.0</td>\n",
       "      <td>0.0</td>\n",
       "    </tr>\n",
       "    <tr>\n",
       "      <th>2</th>\n",
       "      <td>2024-08-19T14:00:00Z</td>\n",
       "      <td>1012.8</td>\n",
       "      <td>20.1</td>\n",
       "      <td>5.1</td>\n",
       "      <td>38.6</td>\n",
       "      <td>203.5</td>\n",
       "      <td>4.9</td>\n",
       "      <td>0.0</td>\n",
       "      <td>0.0</td>\n",
       "    </tr>\n",
       "    <tr>\n",
       "      <th>3</th>\n",
       "      <td>2024-08-19T15:00:00Z</td>\n",
       "      <td>1012.6</td>\n",
       "      <td>20.1</td>\n",
       "      <td>34.9</td>\n",
       "      <td>39.0</td>\n",
       "      <td>194.0</td>\n",
       "      <td>5.6</td>\n",
       "      <td>0.0</td>\n",
       "      <td>0.0</td>\n",
       "    </tr>\n",
       "    <tr>\n",
       "      <th>4</th>\n",
       "      <td>2024-08-19T16:00:00Z</td>\n",
       "      <td>1012.7</td>\n",
       "      <td>19.1</td>\n",
       "      <td>82.3</td>\n",
       "      <td>47.4</td>\n",
       "      <td>182.5</td>\n",
       "      <td>5.9</td>\n",
       "      <td>0.0</td>\n",
       "      <td>0.0</td>\n",
       "    </tr>\n",
       "    <tr>\n",
       "      <th>...</th>\n",
       "      <td>...</td>\n",
       "      <td>...</td>\n",
       "      <td>...</td>\n",
       "      <td>...</td>\n",
       "      <td>...</td>\n",
       "      <td>...</td>\n",
       "      <td>...</td>\n",
       "      <td>...</td>\n",
       "      <td>...</td>\n",
       "    </tr>\n",
       "    <tr>\n",
       "      <th>80</th>\n",
       "      <td>2024-08-28T06:00:00Z</td>\n",
       "      <td>1020.4</td>\n",
       "      <td>13.2</td>\n",
       "      <td>100.0</td>\n",
       "      <td>92.6</td>\n",
       "      <td>194.4</td>\n",
       "      <td>2.1</td>\n",
       "      <td>NaN</td>\n",
       "      <td>0.0</td>\n",
       "    </tr>\n",
       "    <tr>\n",
       "      <th>81</th>\n",
       "      <td>2024-08-28T12:00:00Z</td>\n",
       "      <td>1020.4</td>\n",
       "      <td>18.8</td>\n",
       "      <td>97.3</td>\n",
       "      <td>73.9</td>\n",
       "      <td>204.7</td>\n",
       "      <td>2.9</td>\n",
       "      <td>NaN</td>\n",
       "      <td>0.0</td>\n",
       "    </tr>\n",
       "    <tr>\n",
       "      <th>82</th>\n",
       "      <td>2024-08-28T18:00:00Z</td>\n",
       "      <td>1019.5</td>\n",
       "      <td>17.7</td>\n",
       "      <td>32.8</td>\n",
       "      <td>78.2</td>\n",
       "      <td>190.2</td>\n",
       "      <td>2.8</td>\n",
       "      <td>NaN</td>\n",
       "      <td>0.0</td>\n",
       "    </tr>\n",
       "    <tr>\n",
       "      <th>83</th>\n",
       "      <td>2024-08-29T00:00:00Z</td>\n",
       "      <td>1019.6</td>\n",
       "      <td>14.0</td>\n",
       "      <td>69.5</td>\n",
       "      <td>91.9</td>\n",
       "      <td>158.3</td>\n",
       "      <td>2.1</td>\n",
       "      <td>NaN</td>\n",
       "      <td>2.3</td>\n",
       "    </tr>\n",
       "    <tr>\n",
       "      <th>84</th>\n",
       "      <td>2024-08-29T06:00:00Z</td>\n",
       "      <td>1021.3</td>\n",
       "      <td>14.1</td>\n",
       "      <td>100.0</td>\n",
       "      <td>97.2</td>\n",
       "      <td>38.5</td>\n",
       "      <td>2.2</td>\n",
       "      <td>NaN</td>\n",
       "      <td>NaN</td>\n",
       "    </tr>\n",
       "  </tbody>\n",
       "</table>\n",
       "<p>85 rows × 9 columns</p>\n",
       "</div>"
      ],
      "text/plain": [
       "                    time  data.instant.details.air_pressure_at_sea_level  \\\n",
       "0   2024-08-19T12:00:00Z                                          1012.8   \n",
       "1   2024-08-19T13:00:00Z                                          1012.7   \n",
       "2   2024-08-19T14:00:00Z                                          1012.8   \n",
       "3   2024-08-19T15:00:00Z                                          1012.6   \n",
       "4   2024-08-19T16:00:00Z                                          1012.7   \n",
       "..                   ...                                             ...   \n",
       "80  2024-08-28T06:00:00Z                                          1020.4   \n",
       "81  2024-08-28T12:00:00Z                                          1020.4   \n",
       "82  2024-08-28T18:00:00Z                                          1019.5   \n",
       "83  2024-08-29T00:00:00Z                                          1019.6   \n",
       "84  2024-08-29T06:00:00Z                                          1021.3   \n",
       "\n",
       "    data.instant.details.air_temperature  \\\n",
       "0                                   19.4   \n",
       "1                                   20.1   \n",
       "2                                   20.1   \n",
       "3                                   20.1   \n",
       "4                                   19.1   \n",
       "..                                   ...   \n",
       "80                                  13.2   \n",
       "81                                  18.8   \n",
       "82                                  17.7   \n",
       "83                                  14.0   \n",
       "84                                  14.1   \n",
       "\n",
       "    data.instant.details.cloud_area_fraction  \\\n",
       "0                                       40.5   \n",
       "1                                       44.6   \n",
       "2                                        5.1   \n",
       "3                                       34.9   \n",
       "4                                       82.3   \n",
       "..                                       ...   \n",
       "80                                     100.0   \n",
       "81                                      97.3   \n",
       "82                                      32.8   \n",
       "83                                      69.5   \n",
       "84                                     100.0   \n",
       "\n",
       "    data.instant.details.relative_humidity  \\\n",
       "0                                     36.7   \n",
       "1                                     36.2   \n",
       "2                                     38.6   \n",
       "3                                     39.0   \n",
       "4                                     47.4   \n",
       "..                                     ...   \n",
       "80                                    92.6   \n",
       "81                                    73.9   \n",
       "82                                    78.2   \n",
       "83                                    91.9   \n",
       "84                                    97.2   \n",
       "\n",
       "    data.instant.details.wind_from_direction  data.instant.details.wind_speed  \\\n",
       "0                                      220.5                              3.2   \n",
       "1                                      211.4                              3.9   \n",
       "2                                      203.5                              4.9   \n",
       "3                                      194.0                              5.6   \n",
       "4                                      182.5                              5.9   \n",
       "..                                       ...                              ...   \n",
       "80                                     194.4                              2.1   \n",
       "81                                     204.7                              2.9   \n",
       "82                                     190.2                              2.8   \n",
       "83                                     158.3                              2.1   \n",
       "84                                      38.5                              2.2   \n",
       "\n",
       "    data.next_1_hours.details.precipitation_amount  \\\n",
       "0                                              0.0   \n",
       "1                                              0.0   \n",
       "2                                              0.0   \n",
       "3                                              0.0   \n",
       "4                                              0.0   \n",
       "..                                             ...   \n",
       "80                                             NaN   \n",
       "81                                             NaN   \n",
       "82                                             NaN   \n",
       "83                                             NaN   \n",
       "84                                             NaN   \n",
       "\n",
       "    data.next_6_hours.details.precipitation_amount  \n",
       "0                                              0.0  \n",
       "1                                              0.0  \n",
       "2                                              0.0  \n",
       "3                                              0.0  \n",
       "4                                              0.0  \n",
       "..                                             ...  \n",
       "80                                             0.0  \n",
       "81                                             0.0  \n",
       "82                                             0.0  \n",
       "83                                             2.3  \n",
       "84                                             NaN  \n",
       "\n",
       "[85 rows x 9 columns]"
      ]
     },
     "execution_count": 10,
     "metadata": {},
     "output_type": "execute_result"
    }
   ],
   "source": [
    "oslo_df_mod"
   ]
  },
  {
   "cell_type": "code",
   "execution_count": null,
   "metadata": {},
   "outputs": [],
   "source": [
    "oslo_df_mod.drop(columns=['data.next_6_hours.details.precipitation_amount'], inplace=True)\n",
    "stockholm_df_mod.drop(columns=['data.next_6_hours.details.precipitation_amount'], inplace=True)"
   ]
  },
  {
   "cell_type": "code",
   "execution_count": null,
   "metadata": {},
   "outputs": [],
   "source": [
    "#rename columns to get rid of all categories from the normalization in column name (remove data, instant and details)\n",
    "oslo_df_mod.columns = oslo_df_mod.columns.str.replace('data.instant.details.', '')\n",
    "stockholm_df_mod.columns = stockholm_df_mod.columns.str.replace('data.instant.details.', '')"
   ]
  },
  {
   "cell_type": "code",
   "execution_count": null,
   "metadata": {},
   "outputs": [],
   "source": [
    "oslo_df_mod.rename(columns={'data.next_1_hours.details.precipitation_amount': 'next_1_hours_precipitation_amount'}, inplace=True)\n",
    "stockholm_df_mod.rename(columns={'data.next_1_hours.details.precipitation_amount': 'next_1_hours_precipitation_amount'}, inplace=True)\n"
   ]
  },
  {
   "cell_type": "code",
   "execution_count": null,
   "metadata": {},
   "outputs": [],
   "source": [
    "oslo_df_mod = oslo_df_mod.head(24)\n",
    "stockholm_df_mod = stockholm_df_mod.head(24)\n"
   ]
  },
  {
   "cell_type": "code",
   "execution_count": null,
   "metadata": {},
   "outputs": [],
   "source": [
    "oslo_df_mod.to_csv('data/oslo_met.csv', index=False)\n",
    "stockholm_df_mod.to_csv('data/stockholm_met.csv', index=False)"
   ]
  }
 ],
 "metadata": {
  "kernelspec": {
   "display_name": "airflow-venv",
   "language": "python",
   "name": "python3"
  },
  "language_info": {
   "codemirror_mode": {
    "name": "ipython",
    "version": 3
   },
   "file_extension": ".py",
   "mimetype": "text/x-python",
   "name": "python",
   "nbconvert_exporter": "python",
   "pygments_lexer": "ipython3",
   "version": "3.10.12"
  }
 },
 "nbformat": 4,
 "nbformat_minor": 2
}
